{
 "cells": [
  {
   "cell_type": "markdown",
   "metadata": {},
   "source": [
    "# 1) Prepare EEG data for training of machine-learning models\n",
    "+ Import data.\n",
    "+ Apply filters (bandpass).\n",
    "+ Detect potential bad channels and replace them by interpolation.\n",
    "+ Detect potential bad epochs and remove them."
   ]
  },
  {
   "cell_type": "code",
   "execution_count": 1,
   "metadata": {},
   "outputs": [],
   "source": [
    "# Import packages\n",
    "import os\n",
    "import numpy as np\n",
    "import pandas as pd\n",
    "import matplotlib.pyplot as plt\n",
    "\n",
    "import mne\n",
    "#%matplotlib inline\n",
    "#%matplotlib qt\n",
    "\n",
    "from mayavi import mlab\n",
    "#%qui qt"
   ]
  },
  {
   "cell_type": "code",
   "execution_count": 2,
   "metadata": {},
   "outputs": [],
   "source": [
    "ROOT = \"C:\\\\OneDrive - Netherlands eScience Center\\\\Project_ePodium\\\\\"\n",
    "PATH_CODE = ROOT + \"EEG_explorer\\\\\"\n",
    "PATH_DATA = ROOT + \"Data\\\\\"\n",
    "PATH_OUTPUT = ROOT + \"Data\\\\\"\n",
    "\n",
    "import sys\n",
    "sys.path.insert(0, PATH_CODE)"
   ]
  },
  {
   "cell_type": "markdown",
   "metadata": {},
   "source": [
    "### Custom cnt file importer function:"
   ]
  },
  {
   "cell_type": "code",
   "execution_count": 9,
   "metadata": {},
   "outputs": [],
   "source": [
    "def read_cnt_file(file, \n",
    "                  event_idx = [3, 13, 66],\n",
    "                  tmin = -0.2,\n",
    "                  tmax = 0.8,\n",
    "                  lpass = 0.5, \n",
    "                  hpass = 40, \n",
    "                  threshold = 5, \n",
    "                  max_bad_fraction = 0.2):\n",
    "    \"\"\" Function to read cnt file. Run bandpass filter. \n",
    "    Then detect and correct/remove bad channels and bad epochs.\n",
    "    Store resulting epochs as arrays.\n",
    "    \"\"\"\n",
    "    \n",
    "    # Initialize array\n",
    "    signal_collection = np.zeros((0,62,501))  # TODO: check if that format works for all files (guess not!)\n",
    "    label_collection = np.zeros((0))\n",
    "    \n",
    "    # Import file \n",
    "    data_raw = mne.io.read_raw_cnt(file, montage=None, eog='auto', preload=True)\n",
    "    \n",
    "    # Band-pass filter (between 0.5 and 40 Hz. was 0.5 to 30Hz in Stober 2016)\n",
    "    data_raw.filter(0.5, 40, fir_design='firwin')\n",
    "\n",
    "    events = mne.find_events(data_raw, shortest_event=0, stim_channel='STI 014', verbose=False)\n",
    "    \n",
    "    # Set baseline:\n",
    "    baseline = (None, 0)  # means from the first instant to t = 0\n",
    "\n",
    "    for event_id in event_idx:\n",
    "    \n",
    "        # Pick EEG channels \n",
    "        picks = mne.pick_types(data_raw.info, meg=False, eeg=True, stim=False, eog=False,\n",
    "                           exclude='bads')\n",
    "\n",
    "        epochs = mne.Epochs(data_raw, events, event_id, tmin, tmax, proj=True, picks=picks,\n",
    "                        baseline=baseline, preload=True, verbose=False)\n",
    "\n",
    "        # Detect potential bad channels and epochs\n",
    "        bad_channels, bad_epochs = helper_functions.select_bad_epochs(epochs, \n",
    "                                                                      event_id, \n",
    "                                                                      threshold = threshold, \n",
    "                                                                      max_bad_fraction = max_bad_fraction)\n",
    "\n",
    "        # Interpolate bad channels\n",
    "        if len(bad_channels) > 0: \n",
    "            # Mark bad channels:\n",
    "            data_raw.info['bads'] = bad_channels\n",
    "            # Pick EEG channels:\n",
    "            picks = mne.pick_types(data_raw.info, meg=False, eeg=True, stim=False, eog=False,\n",
    "                               exclude=[])\n",
    "            epochs = mne.Epochs(data_raw, events, event_id, tmin, tmax, proj=True, picks=picks,\n",
    "                            baseline=baseline, preload=True, verbose=False)\n",
    "            # Interpolate bad channels using functionality of 'mne'\n",
    "            epochs.interpolate_bads()\n",
    "        \n",
    "        # Get signals as array and add to total collection\n",
    "        signals_cleaned = epochs[str(event_id)].drop(bad_epochs).get_data()\n",
    "        signal_collection = np.concatenate((signal_collection, signals_cleaned), axis=0)\n",
    "        label_collection = np.concatenate((label_collection, event_id*np.ones((signals_cleaned.shape[0]))), axis=0)\n",
    "        \n",
    "    return signal_collection, label_collection.astype(int)"
   ]
  },
  {
   "cell_type": "markdown",
   "metadata": {},
   "source": [
    "#  Workflow data processing\n",
    "1. Load cnt files.\n",
    "2. Preprocess raw data (bandpass + detect outliers and 'bad' epochs).\n",
    "3. Store epoch data and event type as array"
   ]
  },
  {
   "cell_type": "code",
   "execution_count": 20,
   "metadata": {},
   "outputs": [
    {
     "name": "stdout",
     "output_type": "stream",
     "text": [
      "========================================\n",
      "Imported file  015_thomas_mmn36w.cnt\n",
      "Reading 0 ... 370279  =      0.000 ...   740.558 secs...\n",
      "Setting up band-pass filter from 0.5 - 40 Hz\n",
      "l_trans_bandwidth chosen to be 0.5 Hz\n",
      "h_trans_bandwidth chosen to be 10.0 Hz\n",
      "Filter length of 3301 samples (6.602 sec) selected\n",
      "Found 66 bad epochs in a total of 11  channels.\n",
      "Marked 66 bad epochs in a total of 400  epochs.\n",
      "Found 8 bad epochs in a total of 4  channels.\n",
      "Marked 8 bad epochs in a total of 50  epochs.\n",
      "Found 7 bad epochs in a total of 2  channels.\n",
      "Marked 7 bad epochs in a total of 50  epochs.\n",
      "========================================\n",
      "Imported file  034_17_mc_mmn36_wk.cnt\n",
      "Reading 0 ... 373379  =      0.000 ...   746.758 secs...\n",
      "Setting up band-pass filter from 0.5 - 40 Hz\n",
      "l_trans_bandwidth chosen to be 0.5 Hz\n",
      "h_trans_bandwidth chosen to be 10.0 Hz\n",
      "Filter length of 3301 samples (6.602 sec) selected\n",
      "Found 72 bad epochs in a total of 52  channels.\n",
      "Marked 72 bad epochs in a total of 400  epochs.\n",
      "Found 14 bad epochs in a total of 6  channels.\n",
      "Marked 14 bad epochs in a total of 50  epochs.\n",
      "Found 10 bad epochs in a total of 9  channels.\n",
      "Marked 10 bad epochs in a total of 50  epochs.\n",
      "========================================\n",
      "Imported file  036_17_mc_mmn36_wk.cnt\n",
      "Reading 0 ... 743799  =      0.000 ...  1487.598 secs...\n",
      "Setting up band-pass filter from 0.5 - 40 Hz\n",
      "l_trans_bandwidth chosen to be 0.5 Hz\n",
      "h_trans_bandwidth chosen to be 10.0 Hz\n",
      "Filter length of 3301 samples (6.602 sec) selected\n",
      "Found 284 bad epochs in a total of 48  channels.\n",
      "Found bad channel (more than 160.0  bad epochs): Channel no:  10\n",
      "Marked 170 bad epochs in a total of 800  epochs.\n",
      "Found 28 bad epochs in a total of 15  channels.\n",
      "Found bad channel (more than 20.0  bad epochs): Channel no:  60\n",
      "Marked 15 bad epochs in a total of 100  epochs.\n",
      "Found 30 bad epochs in a total of 22  channels.\n",
      "Found bad channel (more than 20.0  bad epochs): Channel no:  10\n",
      "Marked 12 bad epochs in a total of 100  epochs.\n"
     ]
    }
   ],
   "source": [
    "import fnmatch\n",
    "import warnings\n",
    "warnings.filterwarnings('ignore')\n",
    "\n",
    "import helper_functions\n",
    "\n",
    "dirs = os.listdir(PATH_DATA)\n",
    "cnt_files = fnmatch.filter(dirs, \"*.cnt\")\n",
    "\n",
    "\n",
    "# Initialize array\n",
    "signal_collection = np.zeros((0,62,501))\n",
    "label_collection = np.zeros((0))\n",
    "\n",
    "for filename in cnt_files[0:3]:\n",
    "    print(40*\"=\")\n",
    "    print(\"Imported file \",filename)\n",
    "    # Import data and events\n",
    "    file = PATH_DATA + filename\n",
    "    \n",
    "    signal_collect, label_collect = read_cnt_file(file, \n",
    "                  event_idx = [3, 13, 66],\n",
    "                  tmin = -0.2,\n",
    "                  tmax = 0.8,\n",
    "                  lpass = 0.5, \n",
    "                  hpass = 40, \n",
    "                  threshold = 5, \n",
    "                  max_bad_fraction = 0.2)\n",
    "            \n",
    "    # Get signals as array and add to total collection\n",
    "    signal_collection = np.concatenate((signal_collection, signal_collect), axis=0)\n",
    "    label_collection = np.concatenate((label_collection, label_collect), axis=0)\n"
   ]
  },
  {
   "cell_type": "code",
   "execution_count": 17,
   "metadata": {},
   "outputs": [
    {
     "data": {
      "text/plain": [
       "((1626, 62, 501), (1626,))"
      ]
     },
     "execution_count": 17,
     "metadata": {},
     "output_type": "execute_result"
    }
   ],
   "source": [
    "signal_collection.shape, label_collection.shape"
   ]
  }
 ],
 "metadata": {
  "kernelspec": {
   "display_name": "Python 3",
   "language": "python",
   "name": "python3"
  },
  "language_info": {
   "codemirror_mode": {
    "name": "ipython",
    "version": 3
   },
   "file_extension": ".py",
   "mimetype": "text/x-python",
   "name": "python",
   "nbconvert_exporter": "python",
   "pygments_lexer": "ipython3",
   "version": "3.6.8"
  }
 },
 "nbformat": 4,
 "nbformat_minor": 2
}
