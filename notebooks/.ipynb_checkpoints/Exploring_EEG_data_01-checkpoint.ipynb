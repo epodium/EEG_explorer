{
 "cells": [
  {
   "cell_type": "markdown",
   "metadata": {},
   "source": [
    "## Importing and exploring EEG dataset"
   ]
  },
  {
   "cell_type": "code",
   "execution_count": 4,
   "metadata": {},
   "outputs": [],
   "source": [
    "# Import packages\n",
    "import os\n",
    "import numpy as np\n",
    "import pandas as pd\n",
    "import matplotlib.pyplot as plt\n",
    "\n",
    "from sklearn.pipeline import Pipeline\n",
    "from sklearn.discriminant_analysis import LinearDiscriminantAnalysis\n",
    "from sklearn.model_selection import ShuffleSplit, cross_val_score\n",
    "\n",
    "#from mne import Epochs, pick_types, find_events, pick_types, set_eeg_reference\n",
    "#from mne.channels import read_layout\n",
    "#from mne.io import concatenate_raws, read_raw_edf\n",
    "#from mne.datasets import eegbci\n",
    "#from mne.decoding import CSP\n",
    "#from mne import viz\n",
    "import mne"
   ]
  },
  {
   "cell_type": "code",
   "execution_count": 2,
   "metadata": {},
   "outputs": [],
   "source": [
    "ROOT = \"C:\\\\OneDrive - Netherlands eScience Center\\\\Project_ePodium\\\\\"\n",
    "PATH_CODE = ROOT + \"EEG_explorer\\\\\"\n",
    "PATH_DATA = ROOT + \"Data\\\\\"\n",
    "PATH_OUTPUT = ROOT + \"Data\\\\\"\n"
   ]
  },
  {
   "cell_type": "markdown",
   "metadata": {},
   "source": [
    "### Import EEG data (from .cnt files)"
   ]
  },
  {
   "cell_type": "code",
   "execution_count": 5,
   "metadata": {},
   "outputs": [
    {
     "name": "stderr",
     "output_type": "stream",
     "text": [
      "<ipython-input-5-16770d011c17>:4: RuntimeWarning:   Could not parse meas date from the header. Setting to None.\n",
      "  data_raw = mne.io.read_raw_cnt(file, montage=None)\n",
      "C:\\Users\\FlorianHuber\\Anaconda3\\envs\\mne\\lib\\site-packages\\mne\\io\\cnt\\cnt.py:185: RuntimeWarning: overflow encountered in long_scalars\n",
      "  data_size // (n_samples * n_channels) not in [2, 4]):\n",
      "<ipython-input-5-16770d011c17>:4: RuntimeWarning: Could not define the number of bytes automatically. Defaulting to 2.\n",
      "  data_raw = mne.io.read_raw_cnt(file, montage=None)\n"
     ]
    }
   ],
   "source": [
    "filename = \"333_17_jc_mmn36_wk.cnt\"\n",
    "file = PATH_DATA + filename\n",
    "\n",
    "data_raw = mne.io.read_raw_cnt(file, montage=None)"
   ]
  },
  {
   "cell_type": "markdown",
   "metadata": {},
   "source": [
    "### What does our data look like?"
   ]
  },
  {
   "cell_type": "code",
   "execution_count": 6,
   "metadata": {},
   "outputs": [
    {
     "name": "stdout",
     "output_type": "stream",
     "text": [
      "Data type: <class 'mne.io.cnt.cnt.RawCNT'>\n",
      "\n",
      "<RawCNT  |  333_17_jc_mmn36_wk.cnt, n_channels x n_times : 65 x 362160 (724.3 sec), ~126 kB, data not loaded>\n",
      "\n",
      "Sample rate: 500.0 Hz\n",
      "Size of the matrix: (65, 362160)\n",
      "\n",
      "<Info | 18 non-empty fields\n",
      "    bads : list | 0 items\n",
      "    ch_names : list | O2, O1, OZ, PZ, P4, CP4, P8, C4, TP8, ...\n",
      "    chs : list | 65 items (EEG: 64, STIM: 1)\n",
      "    comps : list | 0 items\n",
      "    custom_ref_applied : bool | False\n",
      "    description : str | 0 items\n",
      "    dev_head_t : Transform | 3 items\n",
      "    events : list | 0 items\n",
      "    highpass : float | 0.0 Hz\n",
      "    hpi_meas : list | 0 items\n",
      "    hpi_results : list | 0 items\n",
      "    lowpass : float | 250.0 Hz\n",
      "    meas_date : NoneType | unspecified\n",
      "    nchan : int | 65\n",
      "    proc_history : list | 0 items\n",
      "    projs : list | 0 items\n",
      "    sfreq : float | 500.0 Hz\n",
      "    subject_info : dict | 5 items\n",
      "    acq_pars : NoneType\n",
      "    acq_stim : NoneType\n",
      "    ctf_head_t : NoneType\n",
      "    dev_ctf_t : NoneType\n",
      "    dig : NoneType\n",
      "    experimenter : NoneType\n",
      "    file_id : NoneType\n",
      "    gantry_angle : NoneType\n",
      "    hpi_subsystem : NoneType\n",
      "    kit_system_id : NoneType\n",
      "    line_freq : NoneType\n",
      "    meas_id : NoneType\n",
      "    proj_id : NoneType\n",
      "    proj_name : NoneType\n",
      "    xplotter_layout : NoneType\n",
      ">\n"
     ]
    }
   ],
   "source": [
    "print('Data type: {}\\n\\n{}\\n'.format(type(data_raw), data_raw))\n",
    "\n",
    "# Get the sample rate\n",
    "print('Sample rate:', data_raw.info['sfreq'], 'Hz')\n",
    "\n",
    "# Get the size of the matrix\n",
    "print('Size of the matrix: {}\\n'.format(data_raw.get_data().shape))\n",
    "\n",
    "# The mne.info class can be used to learn more about the data.\n",
    "print(data_raw.info)"
   ]
  }
 ],
 "metadata": {
  "kernelspec": {
   "display_name": "Python 3",
   "language": "python",
   "name": "python3"
  },
  "language_info": {
   "codemirror_mode": {
    "name": "ipython",
    "version": 3
   },
   "file_extension": ".py",
   "mimetype": "text/x-python",
   "name": "python",
   "nbconvert_exporter": "python",
   "pygments_lexer": "ipython3",
   "version": "3.6.8"
  }
 },
 "nbformat": 4,
 "nbformat_minor": 2
}
